{
 "cells": [
  {
   "cell_type": "markdown",
   "metadata": {},
   "source": [
    "# What is Data Science Portfolio?\n",
    "\n",
    "* Collection of best work \n",
    "* Demonstrate your skill set\n",
    "* Your analytical Abilities\n",
    "* How do you write Codes?\n",
    "* How do you document you code?\n",
    "* Samples to show your ability to make data driven decisions\n",
    "* How do you tell a story from Data?\n",
    "* Problem Solving"
   ]
  },
  {
   "cell_type": "markdown",
   "metadata": {},
   "source": [
    "# Why do you need a Data Science Portfolio?\n",
    "\n",
    "* To highlight your skill set\n",
    "  * Coding and programming\n",
    "  * Story Telling\n",
    "  * EDA\n",
    "  * Machine Learning\n",
    "  * Deep Learning\n",
    "  * App development\n",
    "* Showcase your interest in science projects\n",
    "* Business intelligence\n",
    "* Extension of your CV\n",
    "* Online appearance\n",
    "* Community team work\n",
    "* Collaborative tasks\n",
    "\n",
    "\n"
   ]
  },
  {
   "cell_type": "markdown",
   "metadata": {},
   "source": [
    "# Elements of a great portfolio \n",
    "* Concise explanation about you. \n",
    "  * Name\n",
    "  * Location\n",
    "  * Qualification\n",
    "  * Profession\n",
    "  * Work experience in Data Science (Use numbers)\n",
    "  * Contact Information if they want to reach you\n",
    "     * Email\n",
    "     * LinkedIn \n",
    "     * Twitter/X handle"
   ]
  },
  {
   "cell_type": "markdown",
   "metadata": {},
   "source": [
    "# Elements of a great portfolio\n",
    "* Quick Load time\n",
    "  * Make it on a website with less loading time\n",
    "* Professional Design\n",
    "* Illustrate your best work and project\n",
    "* Social Proof\n",
    "* Your Social Media Appearance\n",
    "  * Blogs\n",
    "  * Medium\n",
    "  * Towards Data Science\n",
    "* Helping others\n",
    "* Freelancing stars/ranking\n",
    "* Online teaching on Youtube\n",
    "* Work Experience and projects completed\n",
    "* Internships"
   ]
  },
  {
   "cell_type": "markdown",
   "metadata": {},
   "source": [
    "# Elements of a great portfolio\n",
    "* Certifications\n",
    "  * Google\n",
    "  * IBM\n",
    "  * Microsoft\n",
    "* Tools and Software\n",
    "  * Python\n",
    "  * R\n",
    "  * Tableau\n",
    "  * SQL\n",
    "  * Excel\n",
    "* Services\n",
    "  * Front end\n",
    "  * Backend\n",
    "  * ML\n",
    "  * DL\n",
    "  * Al\n",
    "  * Apps and so on.."
   ]
  },
  {
   "cell_type": "markdown",
   "metadata": {},
   "source": [
    "# Steps to create a portfolio\n",
    "1. Provide a Catchy Introduction\n",
    "2. Add a More Thorough \"About\" Section\n",
    "3. Include an Easy Way To Contact You\n",
    "4. Add Your Most Promising Projects (Less Is More)\n",
    "5. Make It Easy To Navigate (Simple and Concise)\n",
    "6. How To Stand Out\n",
    "7. What To Avoid"
   ]
  },
  {
   "cell_type": "markdown",
   "metadata": {},
   "source": [
    "1. Add Your Most Promising Projects (Less Is More)\n",
    "  *  Highlight Work Done for Prominent Companies in Your Niche\n",
    "  *  Focus on Common Projects\n",
    "  *  Consider Adding a Page or Section for Each Project\n",
    "  *  Include Project Details, Learnings, and Takeaways"
   ]
  },
  {
   "cell_type": "markdown",
   "metadata": {},
   "source": [
    "2. How To Stand Out\n",
    "  * Use a Self-Hosted Solution\n",
    "  * Invest in an Appealing Design and Layout\n",
    "  * Talk About the Types of Projects That Interest You\n",
    "  * Illustrate Work Traits That Will Help Potential Clients Get To Know You\n",
    "  * Document the Tools You're Familiar With and How You've Used Them in the Past"
   ]
  },
  {
   "cell_type": "markdown",
   "metadata": {},
   "source": [
    "3. What To Avoid?\n",
    "  * Never Copy Another Portfolio\n",
    "  * Never Use Formulaic Website Templates\n",
    "  * Don't Include Projects You Aren't Proud Of"
   ]
  },
  {
   "cell_type": "markdown",
   "metadata": {},
   "source": [
    "# Experienced data scientists are expected\n",
    "To handle:\n",
    "* Big data\n",
    "* Pre-processing of data\n",
    "* Needs of the stakeholders\n",
    "* Clear and concise goal\n",
    "* Why to employee you?\n",
    "* Impact on the company\n",
    "* Tools:\n",
    "  * Python, R, SQL, Tableau, Excel (Spreadsheets)\n",
    "* Reporting, easy for all\n",
    "* story telling\n",
    "* presenting outputs"
   ]
  }
 ],
 "metadata": {
  "language_info": {
   "name": "python"
  }
 },
 "nbformat": 4,
 "nbformat_minor": 2
}
