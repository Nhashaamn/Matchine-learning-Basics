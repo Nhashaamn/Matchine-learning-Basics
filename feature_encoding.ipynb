{
 "cells": [
  {
   "cell_type": "markdown",
   "metadata": {},
   "source": [
    "# feature encodeing\n",
    "## what is feature encoding\n",
    "feature  encoding is a technique used in machine learning to transform categorical data into numerical data.\n"
   ]
  },
  {
   "cell_type": "markdown",
   "metadata": {},
   "source": [
    "## types of encoding\n",
    "1. one hot encoding\n",
    "2. label encoding\n",
    "3. ordinal encoding\n"
   ]
  },
  {
   "cell_type": "markdown",
   "metadata": {},
   "source": [
    "# one hot encoding"
   ]
  },
  {
   "cell_type": "code",
   "execution_count": 4,
   "metadata": {},
   "outputs": [
    {
     "name": "stdout",
     "output_type": "stream",
     "text": [
      "    name\n",
      "0    red\n",
      "1  green\n",
      "2   blue\n",
      "3    red\n",
      "   name_blue  name_green  name_red\n",
      "0      False       False      True\n",
      "1      False        True     False\n",
      "2       True       False     False\n",
      "3      False       False      True\n"
     ]
    }
   ],
   "source": [
    "import pandas as pd\n",
    "# sample data\n",
    "data = {'name': ['red','green','blue','red']}\n",
    "df = pd.DataFrame(data)\n",
    "print(df)\n",
    "#one hot encoding\n",
    "df = pd.get_dummies(df, columns=['name'])\n",
    "print(df)"
   ]
  },
  {
   "cell_type": "markdown",
   "metadata": {},
   "source": [
    "# lable encoding"
   ]
  },
  {
   "cell_type": "code",
   "execution_count": 5,
   "metadata": {},
   "outputs": [
    {
     "name": "stdout",
     "output_type": "stream",
     "text": [
      "   name\n",
      "0     2\n",
      "1     1\n",
      "2     0\n",
      "3     2\n"
     ]
    }
   ],
   "source": [
    "from sklearn.preprocessing import LabelEncoder\n",
    "#sample data\n",
    "data = {'name': ['red','green','blue','red']}\n",
    "df = pd.DataFrame(data)\n",
    "\n",
    "#label encoding\n",
    "le = LabelEncoder()\n",
    "df['name'] = le.fit_transform(df['name'])\n",
    "print(df)"
   ]
  },
  {
   "cell_type": "markdown",
   "metadata": {},
   "source": [
    "# ordinal encoding"
   ]
  },
  {
   "cell_type": "code",
   "execution_count": 9,
   "metadata": {},
   "outputs": [
    {
     "name": "stdout",
     "output_type": "stream",
     "text": [
      "Ordinal Encoded:\n",
      "    name\n",
      "0   0.0\n",
      "1   1.0\n",
      "2   2.0\n",
      "3   0.0\n"
     ]
    }
   ],
   "source": [
    "from sklearn.preprocessing import OrdinalEncoder\n",
    "\n",
    "\n",
    "#sample data\n",
    "data = {'name': ['red','green','blue','red']}\n",
    "df = pd.DataFrame(data)\n",
    "\n",
    "# ordinal encoding\n",
    "oe = OrdinalEncoder(categories=[['red','green','blue']] * 2) # specify categories for each column\n",
    "encoded_columns = oe.fit_transform(df[['name', 'name']])\n",
    "df['name'] = encoded_columns[:,0] # assign back to dataframe\n",
    "print(\"Ordinal Encoded:\\n\", df)\n"
   ]
  }
 ],
 "metadata": {
  "kernelspec": {
   "display_name": "Python 3",
   "language": "python",
   "name": "python3"
  },
  "language_info": {
   "codemirror_mode": {
    "name": "ipython",
    "version": 3
   },
   "file_extension": ".py",
   "mimetype": "text/x-python",
   "name": "python",
   "nbconvert_exporter": "python",
   "pygments_lexer": "ipython3",
   "version": "3.12.3"
  }
 },
 "nbformat": 4,
 "nbformat_minor": 2
}
