{
 "cells": [
  {
   "cell_type": "markdown",
   "metadata": {},
   "source": [
    "# feature scaling and feature encoding\n"
   ]
  },
  {
   "cell_type": "markdown",
   "metadata": {},
   "source": [
    "## what is feature scaling\n",
    "\n",
    "feature scaling is the method  of transforming the range of independent variables or features of data into a common scale.\n",
    "\n",
    "it is the method to limit the range of variables so that they can be compared on common ground"
   ]
  },
  {
   "cell_type": "markdown",
   "metadata": {},
   "source": [
    "## why is feature scaling important\n",
    "\n",
    "it helps algorithm convert faster and models perform better,especially for models like linear regression,logistic regression and suport vector matchines"
   ]
  },
  {
   "cell_type": "markdown",
   "metadata": {},
   "source": [
    "# methods for features scaling\n",
    "\n",
    "1. Min max scaling\n",
    "2. standard scaling (z score normalization)\n",
    "3. robust scaling\n",
    "4. logrithmic scaling"
   ]
  },
  {
   "cell_type": "markdown",
   "metadata": {},
   "source": [
    "### scikit learn is the important library for feature scaing"
   ]
  },
  {
   "cell_type": "markdown",
   "metadata": {},
   "source": [
    "# 1. Min Max scaling\n",
    "x = original value\n",
    "\n",
    "x' = scaled value\n",
    "\n",
    "so'\n",
    "\n",
    "x' = x - min(x) / (max(x)-min(x))\n",
    "\n",
    "for example :\n",
    "\n",
    "if x = 3000 and maximum value in  the dataset is 5000 and minimum  value is 2000, then we will get:\n",
    "\n",
    "x' = 3000 - 2000 / 5000 - 3000\n",
    "\n",
    "x' = 1000 / 2000\n",
    "\n",
    "x' = 0.5\n"
   ]
  },
  {
   "cell_type": "markdown",
   "metadata": {},
   "source": [
    "# 2. Standard scaling (z score normalization)\n",
    "x'  = (x - u)/s, where u is the mean of x and s is the standard daviation of x\n",
    "\n",
    "the range  of z scores can be [-3 to +3]\n",
    "68% of values will lie within one std deviation from the mean\n",
    "\n",
    "95% of values will lie within two std deviations from the mean\n",
    "\n",
    "99.7% of values will lie within three std devations from the mean"
   ]
  },
  {
   "cell_type": "markdown",
   "metadata": {},
   "source": [
    "# 3. Robust scaling\n",
    "x' = x - median(x) / IQR(x)\n"
   ]
  },
  {
   "cell_type": "markdown",
   "metadata": {},
   "source": [
    "# 4. Logrithmic scaling\n",
    "log 10 (x)\n"
   ]
  },
  {
   "cell_type": "code",
   "execution_count": 1,
   "metadata": {},
   "outputs": [
    {
     "name": "stdout",
     "output_type": "stream",
     "text": [
      "Requirement already satisfied: scikit-learn in c:\\users\\nhash\\appdata\\local\\programs\\python\\python311\\lib\\site-packages (1.3.2)\n",
      "Requirement already satisfied: numpy<2.0,>=1.17.3 in c:\\users\\nhash\\appdata\\local\\programs\\python\\python311\\lib\\site-packages (from scikit-learn) (1.26.2)\n",
      "Requirement already satisfied: scipy>=1.5.0 in c:\\users\\nhash\\appdata\\local\\programs\\python\\python311\\lib\\site-packages (from scikit-learn) (1.11.4)\n",
      "Requirement already satisfied: joblib>=1.1.1 in c:\\users\\nhash\\appdata\\local\\programs\\python\\python311\\lib\\site-packages (from scikit-learn) (1.3.2)\n",
      "Requirement already satisfied: threadpoolctl>=2.0.0 in c:\\users\\nhash\\appdata\\local\\programs\\python\\python311\\lib\\site-packages (from scikit-learn) (3.2.0)\n",
      "Note: you may need to restart the kernel to use updated packages.\n"
     ]
    },
    {
     "name": "stderr",
     "output_type": "stream",
     "text": [
      "\n",
      "[notice] A new release of pip is available: 23.2.1 -> 24.0\n",
      "[notice] To update, run: python.exe -m pip install --upgrade pip\n"
     ]
    }
   ],
   "source": [
    "# pip install scikit-learn\n"
   ]
  },
  {
   "cell_type": "markdown",
   "metadata": {},
   "source": [
    "# min max scaling"
   ]
  },
  {
   "cell_type": "code",
   "execution_count": 3,
   "metadata": {},
   "outputs": [
    {
     "name": "stdout",
     "output_type": "stream",
     "text": [
      "   score\n",
      "0    234\n",
      "1     24\n",
      "2     14\n",
      "3     27\n",
      "4    -74\n"
     ]
    }
   ],
   "source": [
    "# example of min max scaling using pandas\n",
    "import pandas as pd\n",
    "from sklearn.preprocessing import MinMaxScaler\n",
    "# sample data\n",
    "data = {'score': [234, 24, 14, 27, -74, 46, 73, -18, 59, 160]}\n",
    "df = pd.DataFrame(data)\n",
    "print(df.head())\n",
    "\n",
    "\n",
    "\n",
    "\n"
   ]
  },
  {
   "cell_type": "code",
   "execution_count": 5,
   "metadata": {},
   "outputs": [
    {
     "data": {
      "text/html": [
       "<div>\n",
       "<style scoped>\n",
       "    .dataframe tbody tr th:only-of-type {\n",
       "        vertical-align: middle;\n",
       "    }\n",
       "\n",
       "    .dataframe tbody tr th {\n",
       "        vertical-align: top;\n",
       "    }\n",
       "\n",
       "    .dataframe thead th {\n",
       "        text-align: right;\n",
       "    }\n",
       "</style>\n",
       "<table border=\"1\" class=\"dataframe\">\n",
       "  <thead>\n",
       "    <tr style=\"text-align: right;\">\n",
       "      <th></th>\n",
       "      <th>score</th>\n",
       "      <th>score_scaled</th>\n",
       "    </tr>\n",
       "  </thead>\n",
       "  <tbody>\n",
       "    <tr>\n",
       "      <th>0</th>\n",
       "      <td>234</td>\n",
       "      <td>1.000000</td>\n",
       "    </tr>\n",
       "    <tr>\n",
       "      <th>1</th>\n",
       "      <td>24</td>\n",
       "      <td>0.318182</td>\n",
       "    </tr>\n",
       "    <tr>\n",
       "      <th>2</th>\n",
       "      <td>14</td>\n",
       "      <td>0.285714</td>\n",
       "    </tr>\n",
       "    <tr>\n",
       "      <th>3</th>\n",
       "      <td>27</td>\n",
       "      <td>0.327922</td>\n",
       "    </tr>\n",
       "    <tr>\n",
       "      <th>4</th>\n",
       "      <td>-74</td>\n",
       "      <td>0.000000</td>\n",
       "    </tr>\n",
       "  </tbody>\n",
       "</table>\n",
       "</div>"
      ],
      "text/plain": [
       "   score  score_scaled\n",
       "0    234      1.000000\n",
       "1     24      0.318182\n",
       "2     14      0.285714\n",
       "3     27      0.327922\n",
       "4    -74      0.000000"
      ]
     },
     "execution_count": 5,
     "metadata": {},
     "output_type": "execute_result"
    }
   ],
   "source": [
    "# scale the data using min max scaler\n",
    "scaler = MinMaxScaler()\n",
    "df['score_scaled'] = scaler.fit_transform(df[['score']])\n",
    "df.head()\n"
   ]
  },
  {
   "cell_type": "markdown",
   "metadata": {},
   "source": [
    "# standard scaler"
   ]
  },
  {
   "cell_type": "code",
   "execution_count": 6,
   "metadata": {},
   "outputs": [
    {
     "name": "stdout",
     "output_type": "stream",
     "text": [
      "   score\n",
      "0    234\n",
      "1     24\n",
      "2     14\n",
      "3     27\n",
      "4    -74\n"
     ]
    }
   ],
   "source": [
    "# example of StandardScaler using pandas\n",
    "import pandas as pd\n",
    "from sklearn.preprocessing import StandardScaler\n",
    "# sample data\n",
    "data = {'score': [234, 24, 14, 27, -74, 46, 73, -18, 59, 160]}\n",
    "df = pd.DataFrame(data)\n",
    "print(df.head())"
   ]
  },
  {
   "cell_type": "code",
   "execution_count": 7,
   "metadata": {},
   "outputs": [
    {
     "data": {
      "text/html": [
       "<div>\n",
       "<style scoped>\n",
       "    .dataframe tbody tr th:only-of-type {\n",
       "        vertical-align: middle;\n",
       "    }\n",
       "\n",
       "    .dataframe tbody tr th {\n",
       "        vertical-align: top;\n",
       "    }\n",
       "\n",
       "    .dataframe thead th {\n",
       "        text-align: right;\n",
       "    }\n",
       "</style>\n",
       "<table border=\"1\" class=\"dataframe\">\n",
       "  <thead>\n",
       "    <tr style=\"text-align: right;\">\n",
       "      <th></th>\n",
       "      <th>score</th>\n",
       "      <th>score_scaled</th>\n",
       "    </tr>\n",
       "  </thead>\n",
       "  <tbody>\n",
       "    <tr>\n",
       "      <th>0</th>\n",
       "      <td>234</td>\n",
       "      <td>2.162800</td>\n",
       "    </tr>\n",
       "    <tr>\n",
       "      <th>1</th>\n",
       "      <td>24</td>\n",
       "      <td>-0.367495</td>\n",
       "    </tr>\n",
       "    <tr>\n",
       "      <th>2</th>\n",
       "      <td>14</td>\n",
       "      <td>-0.487985</td>\n",
       "    </tr>\n",
       "    <tr>\n",
       "      <th>3</th>\n",
       "      <td>27</td>\n",
       "      <td>-0.331348</td>\n",
       "    </tr>\n",
       "    <tr>\n",
       "      <th>4</th>\n",
       "      <td>-74</td>\n",
       "      <td>-1.548300</td>\n",
       "    </tr>\n",
       "  </tbody>\n",
       "</table>\n",
       "</div>"
      ],
      "text/plain": [
       "   score  score_scaled\n",
       "0    234      2.162800\n",
       "1     24     -0.367495\n",
       "2     14     -0.487985\n",
       "3     27     -0.331348\n",
       "4    -74     -1.548300"
      ]
     },
     "execution_count": 7,
     "metadata": {},
     "output_type": "execute_result"
    }
   ],
   "source": [
    "# scale the data using standard scaling\n",
    "scaler = StandardScaler()\n",
    "df['score_scaled'] = scaler.fit_transform(df[['score']])\n",
    "df.head()\n"
   ]
  },
  {
   "cell_type": "markdown",
   "metadata": {},
   "source": [
    "# robust scaler"
   ]
  },
  {
   "cell_type": "code",
   "execution_count": 8,
   "metadata": {},
   "outputs": [
    {
     "data": {
      "text/html": [
       "<div>\n",
       "<style scoped>\n",
       "    .dataframe tbody tr th:only-of-type {\n",
       "        vertical-align: middle;\n",
       "    }\n",
       "\n",
       "    .dataframe tbody tr th {\n",
       "        vertical-align: top;\n",
       "    }\n",
       "\n",
       "    .dataframe thead th {\n",
       "        text-align: right;\n",
       "    }\n",
       "</style>\n",
       "<table border=\"1\" class=\"dataframe\">\n",
       "  <thead>\n",
       "    <tr style=\"text-align: right;\">\n",
       "      <th></th>\n",
       "      <th>score</th>\n",
       "      <th>score_scaled</th>\n",
       "    </tr>\n",
       "  </thead>\n",
       "  <tbody>\n",
       "    <tr>\n",
       "      <th>0</th>\n",
       "      <td>234</td>\n",
       "      <td>3.726415</td>\n",
       "    </tr>\n",
       "    <tr>\n",
       "      <th>1</th>\n",
       "      <td>24</td>\n",
       "      <td>-0.235849</td>\n",
       "    </tr>\n",
       "    <tr>\n",
       "      <th>2</th>\n",
       "      <td>14</td>\n",
       "      <td>-0.424528</td>\n",
       "    </tr>\n",
       "    <tr>\n",
       "      <th>3</th>\n",
       "      <td>27</td>\n",
       "      <td>-0.179245</td>\n",
       "    </tr>\n",
       "    <tr>\n",
       "      <th>4</th>\n",
       "      <td>-74</td>\n",
       "      <td>-2.084906</td>\n",
       "    </tr>\n",
       "  </tbody>\n",
       "</table>\n",
       "</div>"
      ],
      "text/plain": [
       "   score  score_scaled\n",
       "0    234      3.726415\n",
       "1     24     -0.235849\n",
       "2     14     -0.424528\n",
       "3     27     -0.179245\n",
       "4    -74     -2.084906"
      ]
     },
     "execution_count": 8,
     "metadata": {},
     "output_type": "execute_result"
    }
   ],
   "source": [
    "# example of robust scaling using pandas\n",
    "import pandas as pd\n",
    "from sklearn.preprocessing import RobustScaler\n",
    "# sample data\n",
    "data = {'score': [234, 24, 14, 27, -74, 46, 73, -18, 59, 160]}\n",
    "df = pd.DataFrame(data)\n",
    "\n",
    "scaler = RobustScaler()\n",
    "df['score_scaled'] = scaler.fit_transform(df[['score']])\n",
    "df.head()\n"
   ]
  },
  {
   "cell_type": "markdown",
   "metadata": {},
   "source": [
    "# Logrithmic scaling"
   ]
  },
  {
   "cell_type": "code",
   "execution_count": 12,
   "metadata": {},
   "outputs": [
    {
     "data": {
      "text/html": [
       "<div>\n",
       "<style scoped>\n",
       "    .dataframe tbody tr th:only-of-type {\n",
       "        vertical-align: middle;\n",
       "    }\n",
       "\n",
       "    .dataframe tbody tr th {\n",
       "        vertical-align: top;\n",
       "    }\n",
       "\n",
       "    .dataframe thead th {\n",
       "        text-align: right;\n",
       "    }\n",
       "</style>\n",
       "<table border=\"1\" class=\"dataframe\">\n",
       "  <thead>\n",
       "    <tr style=\"text-align: right;\">\n",
       "      <th></th>\n",
       "      <th>score</th>\n",
       "      <th>log_score</th>\n",
       "      <th>log2_score</th>\n",
       "      <th>log10_score</th>\n",
       "    </tr>\n",
       "  </thead>\n",
       "  <tbody>\n",
       "    <tr>\n",
       "      <th>0</th>\n",
       "      <td>234000</td>\n",
       "      <td>12.363076</td>\n",
       "      <td>17.836149</td>\n",
       "      <td>5.369216</td>\n",
       "    </tr>\n",
       "    <tr>\n",
       "      <th>1</th>\n",
       "      <td>24000</td>\n",
       "      <td>10.085809</td>\n",
       "      <td>14.550747</td>\n",
       "      <td>4.380211</td>\n",
       "    </tr>\n",
       "    <tr>\n",
       "      <th>2</th>\n",
       "      <td>1400000</td>\n",
       "      <td>14.151983</td>\n",
       "      <td>20.416995</td>\n",
       "      <td>6.146128</td>\n",
       "    </tr>\n",
       "    <tr>\n",
       "      <th>3</th>\n",
       "      <td>27000</td>\n",
       "      <td>10.203592</td>\n",
       "      <td>14.720672</td>\n",
       "      <td>4.431364</td>\n",
       "    </tr>\n",
       "    <tr>\n",
       "      <th>4</th>\n",
       "      <td>740000</td>\n",
       "      <td>13.514405</td>\n",
       "      <td>19.497166</td>\n",
       "      <td>5.869232</td>\n",
       "    </tr>\n",
       "    <tr>\n",
       "      <th>5</th>\n",
       "      <td>46000</td>\n",
       "      <td>10.736397</td>\n",
       "      <td>15.489346</td>\n",
       "      <td>4.662758</td>\n",
       "    </tr>\n",
       "    <tr>\n",
       "      <th>6</th>\n",
       "      <td>730000</td>\n",
       "      <td>13.500800</td>\n",
       "      <td>19.477537</td>\n",
       "      <td>5.863323</td>\n",
       "    </tr>\n",
       "    <tr>\n",
       "      <th>7</th>\n",
       "      <td>18000</td>\n",
       "      <td>9.798127</td>\n",
       "      <td>14.135709</td>\n",
       "      <td>4.255273</td>\n",
       "    </tr>\n",
       "    <tr>\n",
       "      <th>8</th>\n",
       "      <td>59000</td>\n",
       "      <td>10.985293</td>\n",
       "      <td>15.848427</td>\n",
       "      <td>4.770852</td>\n",
       "    </tr>\n",
       "    <tr>\n",
       "      <th>9</th>\n",
       "      <td>160000</td>\n",
       "      <td>11.982929</td>\n",
       "      <td>17.287712</td>\n",
       "      <td>5.204120</td>\n",
       "    </tr>\n",
       "  </tbody>\n",
       "</table>\n",
       "</div>"
      ],
      "text/plain": [
       "     score  log_score  log2_score  log10_score\n",
       "0   234000  12.363076   17.836149     5.369216\n",
       "1    24000  10.085809   14.550747     4.380211\n",
       "2  1400000  14.151983   20.416995     6.146128\n",
       "3    27000  10.203592   14.720672     4.431364\n",
       "4   740000  13.514405   19.497166     5.869232\n",
       "5    46000  10.736397   15.489346     4.662758\n",
       "6   730000  13.500800   19.477537     5.863323\n",
       "7    18000   9.798127   14.135709     4.255273\n",
       "8    59000  10.985293   15.848427     4.770852\n",
       "9   160000  11.982929   17.287712     5.204120"
      ]
     },
     "execution_count": 12,
     "metadata": {},
     "output_type": "execute_result"
    }
   ],
   "source": [
    "import pandas as pd\n",
    "import numpy as np\n",
    "# random data with outliers\n",
    "data = {'score': [234000, 24000, 1400000, 27000, 740000, 46000, 730000, 18000, 59000, 160000]}\n",
    "df = pd.DataFrame(data)\n",
    "# log tronsform\n",
    "df['log_score'] = np.log(df['score'])\n",
    "df['log2_score'] = np.log2(df['score'])\n",
    "df['log10_score'] = np.log10(df['score'])\n",
    "\n",
    "df\n",
    "\n"
   ]
  },
  {
   "cell_type": "markdown",
   "metadata": {},
   "source": []
  }
 ],
 "metadata": {
  "kernelspec": {
   "display_name": "Python 3",
   "language": "python",
   "name": "python3"
  },
  "language_info": {
   "codemirror_mode": {
    "name": "ipython",
    "version": 3
   },
   "file_extension": ".py",
   "mimetype": "text/x-python",
   "name": "python",
   "nbconvert_exporter": "python",
   "pygments_lexer": "ipython3",
   "version": "3.11.4"
  }
 },
 "nbformat": 4,
 "nbformat_minor": 2
}
